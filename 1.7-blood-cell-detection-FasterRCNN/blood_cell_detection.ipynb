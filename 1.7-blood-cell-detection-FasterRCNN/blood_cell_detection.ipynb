{
 "cells": [
  {
   "cell_type": "code",
   "execution_count": 28,
   "metadata": {},
   "outputs": [],
   "source": [
    "\n",
    "# importing required libraries\n",
    "import pandas as pd\n",
    "import matplotlib.pyplot as plt\n",
    "%matplotlib inline\n",
    "from matplotlib import patches\n",
    "import os, sys, random\n",
    "import xml.etree.ElementTree as ET\n",
    "from glob import glob\n",
    "from shutil import copyfile"
   ]
  },
  {
   "cell_type": "code",
   "execution_count": 49,
   "metadata": {},
   "outputs": [],
   "source": [
    "def call(data_dir,dir_name):\n",
    "    txt_file = os.path.join(data_dir,'data.txt')\n",
    "    with open(txt_file) as fp:\n",
    "        image_names = fp.read().splitlines()\n",
    "    \n",
    "    \n",
    "    for file in image_names:\n",
    "        source_file = os.path.join('Dataset','BCCD','JPEGImages',file+'.jpg')\n",
    "        destination_file = os.path.join(data_dir,'images',file+'.jpg')\n",
    "        copyfile(source_file, destination_file)\n",
    "        \n",
    "        source_file = os.path.join('Dataset','BCCD','Annotations',file+'.xml')\n",
    "        destination_file = os.path.join(data_dir,'annotations',file+'.xml')\n",
    "        copyfile(source_file, destination_file)\n",
    "        \n",
    "    \n",
    "    annotations = glob(data_dir+'/annotations/*.xml')\n",
    "    images = glob(data_dir+'/images/*.jpg')\n",
    "    \n",
    "    df = []\n",
    "    cnt = 0\n",
    "    for file in annotations:\n",
    "        filename = file.split(\"/\")[-1]\n",
    "        #image_file_name = file.split('.')[0]+'.jpg'\n",
    "        filename =filename.split('.')[0] + '.jpg'\n",
    "        image_file_name = os.path.join(data_dir,'images',filename)\n",
    "        row = []\n",
    "        parsedXML = ET.parse(file)\n",
    "        for node in parsedXML.getroot().iter('object'):\n",
    "            blood_cells = node.find('name').text\n",
    "            xmin = int(node.find('bndbox/xmin').text)\n",
    "            xmax = int(node.find('bndbox/xmax').text)\n",
    "            ymin = int(node.find('bndbox/ymin').text)\n",
    "            ymax = int(node.find('bndbox/ymax').text)\n",
    "\n",
    "            row = [image_file_name, blood_cells, xmin, xmax, ymin, ymax]\n",
    "            df.append(row)\n",
    "            cnt += 1\n",
    "    \n",
    "        \n",
    "    data = pd.DataFrame(df, columns=['filename', 'cell_type', 'xmin', 'xmax', 'ymin', 'ymax'])\n",
    "    csv_file = os.path.join(data_dir,dir_name+'.csv')\n",
    "    data[['filename', 'cell_type', 'xmin', 'xmax', 'ymin', 'ymax']].to_csv(csv_file, index=False)"
   ]
  },
  {
   "cell_type": "code",
   "execution_count": 52,
   "metadata": {},
   "outputs": [],
   "source": [
    "def create_data():\n",
    "    train_dir = os.path.join('data','train')\n",
    "    validation_dir = os.path.join('data','validation')\n",
    "    test_dir = os.path.join('data','test')\n",
    "    \n",
    "    call(train_dir,'train')\n",
    "    call(test_dir,'test')\n",
    "    call(validation_dir,'validation')\n",
    "    "
   ]
  },
  {
   "cell_type": "code",
   "execution_count": 53,
   "metadata": {},
   "outputs": [],
   "source": [
    "create_data()"
   ]
  },
  {
   "cell_type": "code",
   "execution_count": 67,
   "metadata": {},
   "outputs": [],
   "source": [
    "def make_annoted_data(train):\n",
    "    data = pd.DataFrame()\n",
    "    data['format'] = train['filename']\n",
    "\n",
    "    # add xmin, ymin, xmax, ymax and class as per the format required\n",
    "    for i in range(data.shape[0]):\n",
    "        data['format'][i] = data['format'][i] + ',' + str(train['xmin'][i]) + ',' + str(train['ymin'][i]) + ',' + str(train['xmax'][i]) + ',' + str(train['ymax'][i]) + ',' + train['cell_type'][i]\n",
    "\n",
    "    data.to_csv('data/train/train.txt', header=None, index=None, sep=' ')"
   ]
  },
  {
   "cell_type": "code",
   "execution_count": 68,
   "metadata": {},
   "outputs": [],
   "source": [
    "def create_annoted_data():\n",
    "    train_df = pd.read_csv('data/train/train.csv')\n",
    "    make_annoted_data(train_df)"
   ]
  },
  {
   "cell_type": "code",
   "execution_count": 69,
   "metadata": {},
   "outputs": [],
   "source": [
    "create_annoted_data()"
   ]
  },
  {
   "cell_type": "code",
   "execution_count": null,
   "metadata": {},
   "outputs": [],
   "source": []
  }
 ],
 "metadata": {
  "kernelspec": {
   "display_name": "Python 3",
   "language": "python",
   "name": "python3"
  },
  "language_info": {
   "codemirror_mode": {
    "name": "ipython",
    "version": 3
   },
   "file_extension": ".py",
   "mimetype": "text/x-python",
   "name": "python",
   "nbconvert_exporter": "python",
   "pygments_lexer": "ipython3",
   "version": "3.6.9"
  }
 },
 "nbformat": 4,
 "nbformat_minor": 2
}
