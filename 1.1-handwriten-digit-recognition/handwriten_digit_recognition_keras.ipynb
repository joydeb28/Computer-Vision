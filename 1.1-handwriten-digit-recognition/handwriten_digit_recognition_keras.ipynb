{
 "cells": [
  {
   "cell_type": "code",
   "execution_count": 1,
   "metadata": {},
   "outputs": [
    {
     "name": "stderr",
     "output_type": "stream",
     "text": [
      "/home/joydeb/.local/lib/python3.6/site-packages/tensorflow/python/framework/dtypes.py:516: FutureWarning: Passing (type, 1) or '1type' as a synonym of type is deprecated; in a future version of numpy, it will be understood as (type, (1,)) / '(1,)type'.\n",
      "  _np_qint8 = np.dtype([(\"qint8\", np.int8, 1)])\n",
      "/home/joydeb/.local/lib/python3.6/site-packages/tensorflow/python/framework/dtypes.py:517: FutureWarning: Passing (type, 1) or '1type' as a synonym of type is deprecated; in a future version of numpy, it will be understood as (type, (1,)) / '(1,)type'.\n",
      "  _np_quint8 = np.dtype([(\"quint8\", np.uint8, 1)])\n",
      "/home/joydeb/.local/lib/python3.6/site-packages/tensorflow/python/framework/dtypes.py:518: FutureWarning: Passing (type, 1) or '1type' as a synonym of type is deprecated; in a future version of numpy, it will be understood as (type, (1,)) / '(1,)type'.\n",
      "  _np_qint16 = np.dtype([(\"qint16\", np.int16, 1)])\n",
      "/home/joydeb/.local/lib/python3.6/site-packages/tensorflow/python/framework/dtypes.py:519: FutureWarning: Passing (type, 1) or '1type' as a synonym of type is deprecated; in a future version of numpy, it will be understood as (type, (1,)) / '(1,)type'.\n",
      "  _np_quint16 = np.dtype([(\"quint16\", np.uint16, 1)])\n",
      "/home/joydeb/.local/lib/python3.6/site-packages/tensorflow/python/framework/dtypes.py:520: FutureWarning: Passing (type, 1) or '1type' as a synonym of type is deprecated; in a future version of numpy, it will be understood as (type, (1,)) / '(1,)type'.\n",
      "  _np_qint32 = np.dtype([(\"qint32\", np.int32, 1)])\n",
      "/home/joydeb/.local/lib/python3.6/site-packages/tensorflow/python/framework/dtypes.py:525: FutureWarning: Passing (type, 1) or '1type' as a synonym of type is deprecated; in a future version of numpy, it will be understood as (type, (1,)) / '(1,)type'.\n",
      "  np_resource = np.dtype([(\"resource\", np.ubyte, 1)])\n",
      "/home/joydeb/.local/lib/python3.6/site-packages/tensorboard/compat/tensorflow_stub/dtypes.py:541: FutureWarning: Passing (type, 1) or '1type' as a synonym of type is deprecated; in a future version of numpy, it will be understood as (type, (1,)) / '(1,)type'.\n",
      "  _np_qint8 = np.dtype([(\"qint8\", np.int8, 1)])\n",
      "/home/joydeb/.local/lib/python3.6/site-packages/tensorboard/compat/tensorflow_stub/dtypes.py:542: FutureWarning: Passing (type, 1) or '1type' as a synonym of type is deprecated; in a future version of numpy, it will be understood as (type, (1,)) / '(1,)type'.\n",
      "  _np_quint8 = np.dtype([(\"quint8\", np.uint8, 1)])\n",
      "/home/joydeb/.local/lib/python3.6/site-packages/tensorboard/compat/tensorflow_stub/dtypes.py:543: FutureWarning: Passing (type, 1) or '1type' as a synonym of type is deprecated; in a future version of numpy, it will be understood as (type, (1,)) / '(1,)type'.\n",
      "  _np_qint16 = np.dtype([(\"qint16\", np.int16, 1)])\n",
      "/home/joydeb/.local/lib/python3.6/site-packages/tensorboard/compat/tensorflow_stub/dtypes.py:544: FutureWarning: Passing (type, 1) or '1type' as a synonym of type is deprecated; in a future version of numpy, it will be understood as (type, (1,)) / '(1,)type'.\n",
      "  _np_quint16 = np.dtype([(\"quint16\", np.uint16, 1)])\n",
      "/home/joydeb/.local/lib/python3.6/site-packages/tensorboard/compat/tensorflow_stub/dtypes.py:545: FutureWarning: Passing (type, 1) or '1type' as a synonym of type is deprecated; in a future version of numpy, it will be understood as (type, (1,)) / '(1,)type'.\n",
      "  _np_qint32 = np.dtype([(\"qint32\", np.int32, 1)])\n",
      "/home/joydeb/.local/lib/python3.6/site-packages/tensorboard/compat/tensorflow_stub/dtypes.py:550: FutureWarning: Passing (type, 1) or '1type' as a synonym of type is deprecated; in a future version of numpy, it will be understood as (type, (1,)) / '(1,)type'.\n",
      "  np_resource = np.dtype([(\"resource\", np.ubyte, 1)])\n"
     ]
    }
   ],
   "source": [
    "import pandas as pd\n",
    "import numpy as np\n",
    "import matplotlib.pyplot as plt\n",
    "import matplotlib.image as mpimg\n",
    "import tensorflow as tf\n",
    "from tensorflow.keras.models import Sequential\n",
    "from tensorflow.keras.layers import Dense\n",
    "from tensorflow.keras.layers import Dropout\n",
    "from tensorflow.keras.layers import Flatten\n",
    "from tensorflow.keras.layers import Conv2D\n",
    "from tensorflow.keras.layers import MaxPooling2D\n",
    "from tensorflow.keras.utils import to_categorical\n",
    "\n",
    "import os\n",
    "current_dir = os.getcwd()\n",
    "%matplotlib inline"
   ]
  },
  {
   "cell_type": "code",
   "execution_count": 2,
   "metadata": {},
   "outputs": [],
   "source": [
    "class DataPreparation():\n",
    "    def __init__(self):\n",
    "        self.data = None\n",
    "        self.x_train = None\n",
    "        self.y_train = None\n",
    "        self.x_test = None\n",
    "        self.y_test = None\n",
    "        self.num_classes = None\n",
    "        \n",
    "        \n",
    "    def load_data(self):\n",
    "        (self.x_train, self.y_train), (self.x_test, self.y_test) = tf.keras.datasets.mnist.load_data(path=os.path.join(current_dir,'data','mnist.npz'))\n",
    "\n",
    "    '''\n",
    "    In Keras, the layers used for two-dimensional convolutions expect pixel values with the dimensions \n",
    "    [pixels][width][height][channels].\n",
    "    We’ll use the .reshape() method to perform this action. \n",
    "    Finally, normalize the image data by dividing each pixel value by 255.\n",
    "    (since RGB value can range from 0 to 255)\n",
    "    reshape to be [samples][width][height][channels]\n",
    "    \n",
    "    we need to convert the dependent variable in the form of integers to a binary class matrix. \n",
    "    This can be achieved by the to_categorical() function\n",
    "\n",
    "    '''    \n",
    "    def reshape_data(self):\n",
    "        img_rows, img_cols = 28, 28\n",
    "        print(\"Before: \")\n",
    "        print(self.x_train.shape)\n",
    "        print(self.x_test.shape)\n",
    "        self.x_train = self.x_train.reshape(self.x_train.shape[0],img_rows,img_cols,1).astype('float32')\n",
    "        self.x_test = self.x_test.reshape(self.x_test.shape[0],img_rows,img_cols,1).astype('float32')\n",
    "        self.x_train /= 255\n",
    "        self.x_test /= 255\n",
    "        print(\"After: \")\n",
    "        print(self.x_train.shape)\n",
    "        print(self.x_test.shape)\n",
    "        self.y_train = to_categorical(self.y_train)\n",
    "        self.y_test = to_categorical(self.y_test)\n",
    "        self.num_classes = self.y_test.shape[1]\n",
    "        print(self.num_classes)\n",
    "        "
   ]
  },
  {
   "cell_type": "code",
   "execution_count": 3,
   "metadata": {},
   "outputs": [
    {
     "name": "stdout",
     "output_type": "stream",
     "text": [
      "Before: \n",
      "(60000, 28, 28)\n",
      "(10000, 28, 28)\n",
      "After: \n",
      "(60000, 28, 28, 1)\n",
      "(10000, 28, 28, 1)\n",
      "10\n"
     ]
    }
   ],
   "source": [
    "dp_obj = DataPreparation()     \n",
    "dp_obj.load_data()\n",
    "dp_obj.reshape_data()"
   ]
  },
  {
   "cell_type": "markdown",
   "metadata": {},
   "source": [
    "1. The first hidden layer is a convolutional layer called a Convolution2D. The layer has 32 feature maps, which with the size of 5×5 and a rectifier activation function. This is the input layer, expecting images with the structure outline above [pixels][width][height].\n",
    "2. Next we define a pooling layer that takes the max called MaxPooling2D. It is configured with a pool size of 2×2.\n",
    "3. The next layer is a regularization layer using dropout called Dropout. It is configured to randomly exclude 20% of neurons in the layer in order to reduce overfitting.\n",
    "4. Next is a layer that converts the 2D matrix data to a vector called Flatten. It allows the output to be processed by standard fully connected layers.\n",
    "5. Next a fully connected layer with 128 neurons and rectifier activation function.\n",
    "6. Finally, the output layer has 10 neurons for the 10 classes and a softmax activation function to output probability-like predictions for each class."
   ]
  },
  {
   "cell_type": "code",
   "execution_count": 18,
   "metadata": {},
   "outputs": [],
   "source": [
    "class ModelDesign():\n",
    "    def __init__(self):\n",
    "        self.model = None\n",
    "        self.num_classes = dp_obj.num_classes\n",
    "        self.history = None\n",
    "        \n",
    "    def base_model(self):\n",
    "        self.model = Sequential()\n",
    "        self.model.add(Conv2D(32,(5,5),activation='relu'))\n",
    "        self.model.add(MaxPooling2D(pool_size=(2,2)))\n",
    "        self.model.add(Dropout(0.2))\n",
    "        self.model.add(Flatten())\n",
    "        self.model.add(Dense(self.num_classes,activation=\"softmax\"))\n",
    "        \n",
    "    def compile_model(self):\n",
    "        self.model.compile(loss=\"categorical_crossentropy\",optimizer=\"adam\",metrics=[\"accuracy\"])\n",
    "    \n",
    "    def train_model(self,batch_size,epochs):\n",
    "        x_train = dp_obj.x_train\n",
    "        y_train = dp_obj.y_train\n",
    "        x_test = dp_obj.x_test\n",
    "        y_test = dp_obj.y_test\n",
    "        #model.fit(X_train, y_train, validation_data=(X_test, y_test), epochs=10, batch_size=200, verbose=2)\n",
    "        \n",
    "        self.history = self.model.fit(x_train,y_train, batch_size=batch_size, epochs=epochs, verbose=2, validation_data = (x_test,y_test),shuffle=True)"
   ]
  },
  {
   "cell_type": "code",
   "execution_count": 19,
   "metadata": {},
   "outputs": [
    {
     "name": "stdout",
     "output_type": "stream",
     "text": [
      "Train on 60000 samples, validate on 10000 samples\n",
      "Epoch 1/10\n",
      "60000/60000 - 9s - loss: 0.3101 - acc: 0.9139 - val_loss: 0.1233 - val_acc: 0.9654\n",
      "Epoch 2/10\n",
      "60000/60000 - 10s - loss: 0.1072 - acc: 0.9696 - val_loss: 0.0752 - val_acc: 0.9772\n",
      "Epoch 3/10\n",
      "60000/60000 - 10s - loss: 0.0777 - acc: 0.9775 - val_loss: 0.0594 - val_acc: 0.9809\n",
      "Epoch 4/10\n",
      "60000/60000 - 10s - loss: 0.0621 - acc: 0.9815 - val_loss: 0.0546 - val_acc: 0.9823\n",
      "Epoch 5/10\n",
      "60000/60000 - 10s - loss: 0.0553 - acc: 0.9837 - val_loss: 0.0441 - val_acc: 0.9855\n",
      "Epoch 6/10\n",
      "60000/60000 - 10s - loss: 0.0505 - acc: 0.9848 - val_loss: 0.0448 - val_acc: 0.9843\n",
      "Epoch 7/10\n",
      "60000/60000 - 10s - loss: 0.0442 - acc: 0.9864 - val_loss: 0.0434 - val_acc: 0.9850\n",
      "Epoch 8/10\n",
      "60000/60000 - 10s - loss: 0.0404 - acc: 0.9879 - val_loss: 0.0445 - val_acc: 0.9851\n",
      "Epoch 9/10\n",
      "60000/60000 - 10s - loss: 0.0367 - acc: 0.9884 - val_loss: 0.0435 - val_acc: 0.9860\n",
      "Epoch 10/10\n",
      "60000/60000 - 10s - loss: 0.0340 - acc: 0.9897 - val_loss: 0.0408 - val_acc: 0.9866\n"
     ]
    }
   ],
   "source": [
    "epochs = 10\n",
    "batch_size = 128\n",
    "\n",
    "md_obj = ModelDesign()\n",
    "md_obj.base_model()\n",
    "md_obj.compile_model()\n",
    "md_obj.train_model(batch_size,epochs)"
   ]
  },
  {
   "cell_type": "code",
   "execution_count": 20,
   "metadata": {},
   "outputs": [
    {
     "name": "stdout",
     "output_type": "stream",
     "text": [
      "Test loss: 0.04081858936327044\n",
      "Test accuracy: 0.9866\n"
     ]
    }
   ],
   "source": [
    "score = md_obj.model.evaluate(dp_obj.x_test, dp_obj.y_test, verbose=0)\n",
    "print('Test loss:', score[0])\n",
    "print('Test accuracy:', score[1])"
   ]
  },
  {
   "cell_type": "code",
   "execution_count": 24,
   "metadata": {},
   "outputs": [
    {
     "data": {
      "image/png": "[encoded data removed]",
      "text/plain": [
       "<Figure size 432x288 with 1 Axes>"
      ]
     },
     "metadata": {
      "needs_background": "light"
     },
     "output_type": "display_data"
    },
    {
     "data": {
      "image/png": "[encoded data removed]",
      "text/plain": [
       "<Figure size 432x288 with 1 Axes>"
      ]
     },
     "metadata": {
      "needs_background": "light"
     },
     "output_type": "display_data"
    }
   ],
   "source": [
    "class EvaluateModel():\n",
    "    def __init__(self,history):\n",
    "        self.history = history\n",
    "        self.epochs = range(len(epochs))\n",
    "        \n",
    "    def plot_acc_loss(self):\n",
    "        \n",
    "        acc = history.history['acc']\n",
    "        loss = history.history['loss']\n",
    "\n",
    "        plt.plot(epochs, acc, 'b', label='Training accuracy')\n",
    "        plt.title('Training accuracy')\n",
    "\n",
    "        plt.figure()\n",
    "\n",
    "        plt.plot(epochs, loss, 'b', label='Training Loss')\n",
    "        plt.title('Training loss')\n",
    "        plt.legend()\n",
    "\n",
    "        plt.show()\n",
    "\n",
    "em_obj = EvaluateModel(md_obj.history)\n",
    "em_obj.plot_acc_loss()"
   ]
  },
  {
   "cell_type": "code",
   "execution_count": null,
   "metadata": {},
   "outputs": [],
   "source": []
  }
 ],
 "metadata": {
  "kernelspec": {
   "display_name": "Python 3",
   "language": "python",
   "name": "python3"
  },
  "language_info": {
   "codemirror_mode": {
    "name": "ipython",
    "version": 3
   },
   "file_extension": ".py",
   "mimetype": "text/x-python",
   "name": "python",
   "nbconvert_exporter": "python",
   "pygments_lexer": "ipython3",
   "version": "3.6.9"
  }
 },
 "nbformat": 4,
 "nbformat_minor": 2
}
