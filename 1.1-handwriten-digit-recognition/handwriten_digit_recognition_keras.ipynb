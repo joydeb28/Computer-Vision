{
 "cells": [
  {
   "cell_type": "code",
   "execution_count": 12,
   "metadata": {},
   "outputs": [],
   "source": [
    "import pandas as pd\n",
    "import numpy as np\n",
    "import matplotlib.pyplot as plt\n",
    "import matplotlib.image as mpimg\n",
    "import tensorflow as tf\n",
    "import os\n",
    "current_dir = os.getcwd()\n",
    "%matplotlib inline"
   ]
  },
  {
   "cell_type": "code",
   "execution_count": 27,
   "metadata": {},
   "outputs": [],
   "source": [
    "class DataPreparation():\n",
    "    def __init__(self):\n",
    "        self.data = None\n",
    "        self.x_train = None\n",
    "        self.y_train = None\n",
    "        self.y_test = None\n",
    "        \n",
    "        \n",
    "    def load_data(self):\n",
    "        (self.x_train, self.y_train), (self.x_test, self.y_test) = tf.keras.datasets.mnist.load_data(path=os.path.join(current_dir,'data','mnist.npz'))\n",
    "\n",
    "    '''\n",
    "    we need to reshape each image to the format of (M x N x 1). \n",
    "    We’ll use the .reshape() method to perform this action. \n",
    "    Finally, normalize the image data by dividing each pixel value by 255.\n",
    "    (since RGB value can range from 0 to 255)\n",
    "    reshape to be [samples][width][height][channels]\n",
    "\n",
    "    '''    \n",
    "    def reshape_data(self):\n",
    "        img_rows, img_cols = 28, 28\n",
    "        print(\"Before: \")\n",
    "        print(self.x_train.shape)\n",
    "        print(self.x_test.shape)\n",
    "        self.x_train = self.x_train.reshape(self.x_train.shape[0],img_rows,img_cols,1).astype('float32')\n",
    "        self.x_test = self.x_test.reshape(self.x_test.shape[0],img_rows,img_cols,1).astype('float32')\n",
    "        self.x_train /= 255\n",
    "        self.x_test /= 255\n",
    "        print(\"After: \")\n",
    "        print(self.x_train.shape)\n",
    "        print(self.x_test.shape)\n",
    "        \n",
    "        "
   ]
  },
  {
   "cell_type": "code",
   "execution_count": 26,
   "metadata": {},
   "outputs": [
    {
     "name": "stdout",
     "output_type": "stream",
     "text": [
      "(60000, 28, 28)\n",
      "(10000, 28, 28)\n",
      "(60000, 28, 28, 1)\n",
      "(10000, 28, 28, 1)\n",
      "(60000, 28, 28, 1)\n",
      "(10000, 28, 28, 1)\n"
     ]
    }
   ],
   "source": [
    "dp_obj = DataPreparation()     \n",
    "dp_obj.load_data()\n",
    "dp_obj.reshape_data()"
   ]
  },
  {
   "cell_type": "code",
   "execution_count": null,
   "metadata": {},
   "outputs": [],
   "source": []
  }
 ],
 "metadata": {
  "kernelspec": {
   "display_name": "Python 3",
   "language": "python",
   "name": "python3"
  },
  "language_info": {
   "codemirror_mode": {
    "name": "ipython",
    "version": 3
   },
   "file_extension": ".py",
   "mimetype": "text/x-python",
   "name": "python",
   "nbconvert_exporter": "python",
   "pygments_lexer": "ipython3",
   "version": "3.6.9"
  }
 },
 "nbformat": 4,
 "nbformat_minor": 2
}
